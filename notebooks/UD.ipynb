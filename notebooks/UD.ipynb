{
 "cells": [
  {
   "cell_type": "code",
   "execution_count": 1,
   "metadata": {},
   "outputs": [
    {
     "data": {
      "text/plain": [
       "'/home/zack/personal/nihongo_dep'"
      ]
     },
     "execution_count": 1,
     "metadata": {},
     "output_type": "execute_result"
    }
   ],
   "source": [
    "import os\n",
    "\n",
    "if (os.path.basename(os.getcwd()) == 'notebooks'):\n",
    "    os.chdir('..')\n",
    "\n",
    "os.getcwd()"
   ]
  },
  {
   "cell_type": "code",
   "execution_count": 2,
   "metadata": {},
   "outputs": [],
   "source": [
    "import pyconll"
   ]
  },
  {
   "cell_type": "markdown",
   "metadata": {},
   "source": [
    "# Load data"
   ]
  },
  {
   "cell_type": "code",
   "execution_count": 3,
   "metadata": {},
   "outputs": [],
   "source": [
    "train = pyconll.load_from_file('data/raw/UD_Japanese-GSD/ja_gsd-ud-train.conllu')\n",
    "test = pyconll.load_from_file('data/raw/UD_Japanese-GSD/ja_gsd-ud-test.conllu')\n",
    "dev = pyconll.load_from_file('data/raw/UD_Japanese-GSD/ja_gsd-ud-dev.conllu')"
   ]
  },
  {
   "cell_type": "code",
   "execution_count": 4,
   "id": "0e832748",
   "metadata": {},
   "outputs": [
    {
     "data": {
      "text/plain": [
       "<pyconll.unit.conll.Conll at 0x7fddb02e4460>"
      ]
     },
     "execution_count": 4,
     "metadata": {},
     "output_type": "execute_result"
    }
   ],
   "source": [
    "train"
   ]
  },
  {
   "cell_type": "code",
   "execution_count": 5,
   "metadata": {},
   "outputs": [
    {
     "name": "stdout",
     "output_type": "stream",
     "text": [
      "train: 7050\n",
      "test: 543\n",
      "dev: 507\n",
      "\n"
     ]
    }
   ],
   "source": [
    "print(f'train: {len(train)}\\ntest: {len(test)}\\ndev: {len(dev)}\\n')"
   ]
  },
  {
   "cell_type": "code",
   "execution_count": 6,
   "id": "9837b473",
   "metadata": {},
   "outputs": [],
   "source": [
    "import pandas as pd\n",
    "from nihongo_dep import conll"
   ]
  },
  {
   "cell_type": "code",
   "execution_count": 7,
   "id": "e98f216c",
   "metadata": {},
   "outputs": [
    {
     "data": {
      "text/html": [
       "<div>\n",
       "<style scoped>\n",
       "    .dataframe tbody tr th:only-of-type {\n",
       "        vertical-align: middle;\n",
       "    }\n",
       "\n",
       "    .dataframe tbody tr th {\n",
       "        vertical-align: top;\n",
       "    }\n",
       "\n",
       "    .dataframe thead th {\n",
       "        text-align: right;\n",
       "    }\n",
       "</style>\n",
       "<table border=\"1\" class=\"dataframe\">\n",
       "  <thead>\n",
       "    <tr style=\"text-align: right;\">\n",
       "      <th></th>\n",
       "      <th>sent</th>\n",
       "      <th>id</th>\n",
       "      <th>text</th>\n",
       "    </tr>\n",
       "  </thead>\n",
       "  <tbody>\n",
       "    <tr>\n",
       "      <th>0</th>\n",
       "      <td>(&lt;pyconll.unit.token.Token object at 0x7fddb02...</td>\n",
       "      <td>train-s1</td>\n",
       "      <td>ホッケーにはデンジャラスプレーの反則があるので、膝より上にボールを浮かすことは基本的に反則に...</td>\n",
       "    </tr>\n",
       "    <tr>\n",
       "      <th>1</th>\n",
       "      <td>(&lt;pyconll.unit.token.Token object at 0x7fddb02...</td>\n",
       "      <td>train-s2</td>\n",
       "      <td>また行きたい、そんな気持ちにさせてくれるお店です。</td>\n",
       "    </tr>\n",
       "    <tr>\n",
       "      <th>2</th>\n",
       "      <td>(&lt;pyconll.unit.token.Token object at 0x7fddb02...</td>\n",
       "      <td>train-s3</td>\n",
       "      <td>手に持った特殊な刃物を使ったアクロバティックな体術や、揚羽と薄羽同様にクナイや忍具を使って攻...</td>\n",
       "    </tr>\n",
       "    <tr>\n",
       "      <th>3</th>\n",
       "      <td>(&lt;pyconll.unit.token.Token object at 0x7fddb02...</td>\n",
       "      <td>train-s4</td>\n",
       "      <td>3年次にはトータルオフェンスで2,892ヤードを獲得し、これは大学記録となった。</td>\n",
       "    </tr>\n",
       "    <tr>\n",
       "      <th>4</th>\n",
       "      <td>(&lt;pyconll.unit.token.Token object at 0x7fddb02...</td>\n",
       "      <td>train-s5</td>\n",
       "      <td>葬儀の最中ですよ!</td>\n",
       "    </tr>\n",
       "    <tr>\n",
       "      <th>...</th>\n",
       "      <td>...</td>\n",
       "      <td>...</td>\n",
       "      <td>...</td>\n",
       "    </tr>\n",
       "    <tr>\n",
       "      <th>7045</th>\n",
       "      <td>(&lt;pyconll.unit.token.Token object at 0x7fdd739...</td>\n",
       "      <td>train-s7160</td>\n",
       "      <td>「さくらちゃん」と呼ばれている。</td>\n",
       "    </tr>\n",
       "    <tr>\n",
       "      <th>7046</th>\n",
       "      <td>(&lt;pyconll.unit.token.Token object at 0x7fdd739...</td>\n",
       "      <td>train-s7161</td>\n",
       "      <td>シェルマルケ氏は新憲法などをめぐり、アハメド暫定大統領と対立していた。</td>\n",
       "    </tr>\n",
       "    <tr>\n",
       "      <th>7047</th>\n",
       "      <td>(&lt;pyconll.unit.token.Token object at 0x7fdd739...</td>\n",
       "      <td>train-s7162</td>\n",
       "      <td>自らがオウム真理教ではない別のカルト団体に12年間所属していた経験をもとに,こう語りました。</td>\n",
       "    </tr>\n",
       "    <tr>\n",
       "      <th>7048</th>\n",
       "      <td>(&lt;pyconll.unit.token.Token object at 0x7fdd739...</td>\n",
       "      <td>train-s7163</td>\n",
       "      <td>紅い髪と同じ色の瞳という容姿に加え、眉と鎖骨の下の部分に二つずつ紅い球体が埋まっているという...</td>\n",
       "    </tr>\n",
       "    <tr>\n",
       "      <th>7049</th>\n",
       "      <td>(&lt;pyconll.unit.token.Token object at 0x7fdd739...</td>\n",
       "      <td>train-s7164</td>\n",
       "      <td>“人生,棒に振らないように”するためにはカルト団体からの速やかな離脱が必要だと感じるのは記者...</td>\n",
       "    </tr>\n",
       "  </tbody>\n",
       "</table>\n",
       "<p>7050 rows × 3 columns</p>\n",
       "</div>"
      ],
      "text/plain": [
       "                                                   sent           id  \\\n",
       "0     (<pyconll.unit.token.Token object at 0x7fddb02...     train-s1   \n",
       "1     (<pyconll.unit.token.Token object at 0x7fddb02...     train-s2   \n",
       "2     (<pyconll.unit.token.Token object at 0x7fddb02...     train-s3   \n",
       "3     (<pyconll.unit.token.Token object at 0x7fddb02...     train-s4   \n",
       "4     (<pyconll.unit.token.Token object at 0x7fddb02...     train-s5   \n",
       "...                                                 ...          ...   \n",
       "7045  (<pyconll.unit.token.Token object at 0x7fdd739...  train-s7160   \n",
       "7046  (<pyconll.unit.token.Token object at 0x7fdd739...  train-s7161   \n",
       "7047  (<pyconll.unit.token.Token object at 0x7fdd739...  train-s7162   \n",
       "7048  (<pyconll.unit.token.Token object at 0x7fdd739...  train-s7163   \n",
       "7049  (<pyconll.unit.token.Token object at 0x7fdd739...  train-s7164   \n",
       "\n",
       "                                                   text  \n",
       "0     ホッケーにはデンジャラスプレーの反則があるので、膝より上にボールを浮かすことは基本的に反則に...  \n",
       "1                             また行きたい、そんな気持ちにさせてくれるお店です。  \n",
       "2     手に持った特殊な刃物を使ったアクロバティックな体術や、揚羽と薄羽同様にクナイや忍具を使って攻...  \n",
       "3              3年次にはトータルオフェンスで2,892ヤードを獲得し、これは大学記録となった。  \n",
       "4                                             葬儀の最中ですよ!  \n",
       "...                                                 ...  \n",
       "7045                                   「さくらちゃん」と呼ばれている。  \n",
       "7046                シェルマルケ氏は新憲法などをめぐり、アハメド暫定大統領と対立していた。  \n",
       "7047     自らがオウム真理教ではない別のカルト団体に12年間所属していた経験をもとに,こう語りました。  \n",
       "7048  紅い髪と同じ色の瞳という容姿に加え、眉と鎖骨の下の部分に二つずつ紅い球体が埋まっているという...  \n",
       "7049  “人生,棒に振らないように”するためにはカルト団体からの速やかな離脱が必要だと感じるのは記者...  \n",
       "\n",
       "[7050 rows x 3 columns]"
      ]
     },
     "execution_count": 7,
     "metadata": {},
     "output_type": "execute_result"
    }
   ],
   "source": [
    "conll.ConllDataFrame(train)"
   ]
  },
  {
   "cell_type": "code",
   "execution_count": 8,
   "id": "0c201462",
   "metadata": {},
   "outputs": [
    {
     "data": {
      "text/html": [
       "<div>\n",
       "<style scoped>\n",
       "    .dataframe tbody tr th:only-of-type {\n",
       "        vertical-align: middle;\n",
       "    }\n",
       "\n",
       "    .dataframe tbody tr th {\n",
       "        vertical-align: top;\n",
       "    }\n",
       "\n",
       "    .dataframe thead th {\n",
       "        text-align: right;\n",
       "    }\n",
       "</style>\n",
       "<table border=\"1\" class=\"dataframe\">\n",
       "  <thead>\n",
       "    <tr style=\"text-align: right;\">\n",
       "      <th></th>\n",
       "      <th>sent_idx</th>\n",
       "      <th>tokens</th>\n",
       "      <th>text</th>\n",
       "      <th>head</th>\n",
       "      <th>upos</th>\n",
       "      <th>deprel</th>\n",
       "      <th>deps</th>\n",
       "      <th>feats</th>\n",
       "      <th>misc</th>\n",
       "      <th>sent_id</th>\n",
       "    </tr>\n",
       "  </thead>\n",
       "  <tbody>\n",
       "    <tr>\n",
       "      <th>0</th>\n",
       "      <td>1</td>\n",
       "      <td>&lt;pyconll.unit.token.Token object at 0x7fdd7392...</td>\n",
       "      <td>これ</td>\n",
       "      <td>6</td>\n",
       "      <td>PRON</td>\n",
       "      <td>obl</td>\n",
       "      <td>{}</td>\n",
       "      <td>{}</td>\n",
       "      <td>{'BunsetuBILabel': {'B'}, 'BunsetuPositionType...</td>\n",
       "      <td>test-s1</td>\n",
       "    </tr>\n",
       "    <tr>\n",
       "      <th>1</th>\n",
       "      <td>2</td>\n",
       "      <td>&lt;pyconll.unit.token.Token object at 0x7fdd7393...</td>\n",
       "      <td>に</td>\n",
       "      <td>1</td>\n",
       "      <td>ADP</td>\n",
       "      <td>case</td>\n",
       "      <td>{}</td>\n",
       "      <td>{}</td>\n",
       "      <td>{'BunsetuBILabel': {'I'}, 'BunsetuPositionType...</td>\n",
       "      <td>test-s1</td>\n",
       "    </tr>\n",
       "    <tr>\n",
       "      <th>2</th>\n",
       "      <td>3</td>\n",
       "      <td>&lt;pyconll.unit.token.Token object at 0x7fdd7393...</td>\n",
       "      <td>不快</td>\n",
       "      <td>4</td>\n",
       "      <td>NOUN</td>\n",
       "      <td>compound</td>\n",
       "      <td>{}</td>\n",
       "      <td>{}</td>\n",
       "      <td>{'BunsetuBILabel': {'B'}, 'BunsetuPositionType...</td>\n",
       "      <td>test-s1</td>\n",
       "    </tr>\n",
       "    <tr>\n",
       "      <th>3</th>\n",
       "      <td>4</td>\n",
       "      <td>&lt;pyconll.unit.token.Token object at 0x7fdd7393...</td>\n",
       "      <td>感</td>\n",
       "      <td>6</td>\n",
       "      <td>NOUN</td>\n",
       "      <td>obj</td>\n",
       "      <td>{}</td>\n",
       "      <td>{}</td>\n",
       "      <td>{'BunsetuBILabel': {'I'}, 'BunsetuPositionType...</td>\n",
       "      <td>test-s1</td>\n",
       "    </tr>\n",
       "    <tr>\n",
       "      <th>4</th>\n",
       "      <td>5</td>\n",
       "      <td>&lt;pyconll.unit.token.Token object at 0x7fdd7393...</td>\n",
       "      <td>を</td>\n",
       "      <td>4</td>\n",
       "      <td>ADP</td>\n",
       "      <td>case</td>\n",
       "      <td>{}</td>\n",
       "      <td>{}</td>\n",
       "      <td>{'BunsetuBILabel': {'I'}, 'BunsetuPositionType...</td>\n",
       "      <td>test-s1</td>\n",
       "    </tr>\n",
       "    <tr>\n",
       "      <th>...</th>\n",
       "      <td>...</td>\n",
       "      <td>...</td>\n",
       "      <td>...</td>\n",
       "      <td>...</td>\n",
       "      <td>...</td>\n",
       "      <td>...</td>\n",
       "      <td>...</td>\n",
       "      <td>...</td>\n",
       "      <td>...</td>\n",
       "      <td>...</td>\n",
       "    </tr>\n",
       "    <tr>\n",
       "      <th>13029</th>\n",
       "      <td>20</td>\n",
       "      <td>&lt;pyconll.unit.token.Token object at 0x7fdd716d...</td>\n",
       "      <td>し</td>\n",
       "      <td>19</td>\n",
       "      <td>AUX</td>\n",
       "      <td>aux</td>\n",
       "      <td>{}</td>\n",
       "      <td>{}</td>\n",
       "      <td>{'BunsetuBILabel': {'I'}, 'BunsetuPositionType...</td>\n",
       "      <td>test-s557</td>\n",
       "    </tr>\n",
       "    <tr>\n",
       "      <th>13030</th>\n",
       "      <td>21</td>\n",
       "      <td>&lt;pyconll.unit.token.Token object at 0x7fdd716d...</td>\n",
       "      <td>て</td>\n",
       "      <td>19</td>\n",
       "      <td>SCONJ</td>\n",
       "      <td>mark</td>\n",
       "      <td>{}</td>\n",
       "      <td>{}</td>\n",
       "      <td>{'BunsetuBILabel': {'I'}, 'BunsetuPositionType...</td>\n",
       "      <td>test-s557</td>\n",
       "    </tr>\n",
       "    <tr>\n",
       "      <th>13031</th>\n",
       "      <td>22</td>\n",
       "      <td>&lt;pyconll.unit.token.Token object at 0x7fdd716d...</td>\n",
       "      <td>い</td>\n",
       "      <td>21</td>\n",
       "      <td>VERB</td>\n",
       "      <td>fixed</td>\n",
       "      <td>{}</td>\n",
       "      <td>{}</td>\n",
       "      <td>{'BunsetuBILabel': {'I'}, 'BunsetuPositionType...</td>\n",
       "      <td>test-s557</td>\n",
       "    </tr>\n",
       "    <tr>\n",
       "      <th>13032</th>\n",
       "      <td>23</td>\n",
       "      <td>&lt;pyconll.unit.token.Token object at 0x7fdd716d...</td>\n",
       "      <td>た</td>\n",
       "      <td>19</td>\n",
       "      <td>AUX</td>\n",
       "      <td>aux</td>\n",
       "      <td>{}</td>\n",
       "      <td>{}</td>\n",
       "      <td>{'BunsetuBILabel': {'I'}, 'BunsetuPositionType...</td>\n",
       "      <td>test-s557</td>\n",
       "    </tr>\n",
       "    <tr>\n",
       "      <th>13033</th>\n",
       "      <td>24</td>\n",
       "      <td>&lt;pyconll.unit.token.Token object at 0x7fdd716d...</td>\n",
       "      <td>。</td>\n",
       "      <td>19</td>\n",
       "      <td>PUNCT</td>\n",
       "      <td>punct</td>\n",
       "      <td>{}</td>\n",
       "      <td>{}</td>\n",
       "      <td>{'BunsetuBILabel': {'I'}, 'BunsetuPositionType...</td>\n",
       "      <td>test-s557</td>\n",
       "    </tr>\n",
       "  </tbody>\n",
       "</table>\n",
       "<p>13034 rows × 10 columns</p>\n",
       "</div>"
      ],
      "text/plain": [
       "       sent_idx                                             tokens text head  \\\n",
       "0             1  <pyconll.unit.token.Token object at 0x7fdd7392...   これ    6   \n",
       "1             2  <pyconll.unit.token.Token object at 0x7fdd7393...    に    1   \n",
       "2             3  <pyconll.unit.token.Token object at 0x7fdd7393...   不快    4   \n",
       "3             4  <pyconll.unit.token.Token object at 0x7fdd7393...    感    6   \n",
       "4             5  <pyconll.unit.token.Token object at 0x7fdd7393...    を    4   \n",
       "...         ...                                                ...  ...  ...   \n",
       "13029        20  <pyconll.unit.token.Token object at 0x7fdd716d...    し   19   \n",
       "13030        21  <pyconll.unit.token.Token object at 0x7fdd716d...    て   19   \n",
       "13031        22  <pyconll.unit.token.Token object at 0x7fdd716d...    い   21   \n",
       "13032        23  <pyconll.unit.token.Token object at 0x7fdd716d...    た   19   \n",
       "13033        24  <pyconll.unit.token.Token object at 0x7fdd716d...    。   19   \n",
       "\n",
       "        upos    deprel deps feats  \\\n",
       "0       PRON       obl   {}    {}   \n",
       "1        ADP      case   {}    {}   \n",
       "2       NOUN  compound   {}    {}   \n",
       "3       NOUN       obj   {}    {}   \n",
       "4        ADP      case   {}    {}   \n",
       "...      ...       ...  ...   ...   \n",
       "13029    AUX       aux   {}    {}   \n",
       "13030  SCONJ      mark   {}    {}   \n",
       "13031   VERB     fixed   {}    {}   \n",
       "13032    AUX       aux   {}    {}   \n",
       "13033  PUNCT     punct   {}    {}   \n",
       "\n",
       "                                                    misc    sent_id  \n",
       "0      {'BunsetuBILabel': {'B'}, 'BunsetuPositionType...    test-s1  \n",
       "1      {'BunsetuBILabel': {'I'}, 'BunsetuPositionType...    test-s1  \n",
       "2      {'BunsetuBILabel': {'B'}, 'BunsetuPositionType...    test-s1  \n",
       "3      {'BunsetuBILabel': {'I'}, 'BunsetuPositionType...    test-s1  \n",
       "4      {'BunsetuBILabel': {'I'}, 'BunsetuPositionType...    test-s1  \n",
       "...                                                  ...        ...  \n",
       "13029  {'BunsetuBILabel': {'I'}, 'BunsetuPositionType...  test-s557  \n",
       "13030  {'BunsetuBILabel': {'I'}, 'BunsetuPositionType...  test-s557  \n",
       "13031  {'BunsetuBILabel': {'I'}, 'BunsetuPositionType...  test-s557  \n",
       "13032  {'BunsetuBILabel': {'I'}, 'BunsetuPositionType...  test-s557  \n",
       "13033  {'BunsetuBILabel': {'I'}, 'BunsetuPositionType...  test-s557  \n",
       "\n",
       "[13034 rows x 10 columns]"
      ]
     },
     "execution_count": 8,
     "metadata": {},
     "output_type": "execute_result"
    }
   ],
   "source": [
    "conll.SentenceDataFrame.from_conll(test)"
   ]
  },
  {
   "cell_type": "code",
   "execution_count": 9,
   "id": "88844646",
   "metadata": {},
   "outputs": [
    {
     "ename": "NameError",
     "evalue": "name 'df' is not defined",
     "output_type": "error",
     "traceback": [
      "\u001b[0;31m---------------------------------------------------------------------------\u001b[0m",
      "\u001b[0;31mNameError\u001b[0m                                 Traceback (most recent call last)",
      "Cell \u001b[0;32mIn[9], line 1\u001b[0m\n\u001b[0;32m----> 1\u001b[0m df\u001b[39m.\u001b[39msent\u001b[39m.\u001b[39mapply(\u001b[39mlambda\u001b[39;00m x: x\u001b[39m.\u001b[39mid)\n",
      "\u001b[0;31mNameError\u001b[0m: name 'df' is not defined"
     ]
    }
   ],
   "source": [
    "df.sent.apply(lambda x: x.id)"
   ]
  },
  {
   "cell_type": "markdown",
   "metadata": {},
   "source": [
    "# Checkout sentences"
   ]
  },
  {
   "cell_type": "code",
   "execution_count": null,
   "metadata": {},
   "outputs": [
    {
     "data": {
      "text/plain": [
       "<pyconll.unit.sentence.Sentence at 0x7fd260440720>"
      ]
     },
     "execution_count": 11,
     "metadata": {},
     "output_type": "execute_result"
    }
   ],
   "source": [
    "sent = train[0]\n",
    "sent"
   ]
  },
  {
   "cell_type": "code",
   "execution_count": null,
   "id": "ba3e492e",
   "metadata": {},
   "outputs": [],
   "source": [
    "df = pd.DataFrame(dict(tokens=list(sent)))"
   ]
  },
  {
   "cell_type": "code",
   "execution_count": null,
   "id": "ea6900f6",
   "metadata": {},
   "outputs": [
    {
     "data": {
      "text/html": [
       "<div>\n",
       "<style scoped>\n",
       "    .dataframe tbody tr th:only-of-type {\n",
       "        vertical-align: middle;\n",
       "    }\n",
       "\n",
       "    .dataframe tbody tr th {\n",
       "        vertical-align: top;\n",
       "    }\n",
       "\n",
       "    .dataframe thead th {\n",
       "        text-align: right;\n",
       "    }\n",
       "</style>\n",
       "<table border=\"1\" class=\"dataframe\">\n",
       "  <thead>\n",
       "    <tr style=\"text-align: right;\">\n",
       "      <th></th>\n",
       "      <th>tokens</th>\n",
       "    </tr>\n",
       "  </thead>\n",
       "  <tbody>\n",
       "    <tr>\n",
       "      <th>0</th>\n",
       "      <td>&lt;pyconll.unit.token.Token object at 0x7fd26042...</td>\n",
       "    </tr>\n",
       "    <tr>\n",
       "      <th>1</th>\n",
       "      <td>&lt;pyconll.unit.token.Token object at 0x7fd26042...</td>\n",
       "    </tr>\n",
       "    <tr>\n",
       "      <th>2</th>\n",
       "      <td>&lt;pyconll.unit.token.Token object at 0x7fd26042...</td>\n",
       "    </tr>\n",
       "    <tr>\n",
       "      <th>3</th>\n",
       "      <td>&lt;pyconll.unit.token.Token object at 0x7fd26042...</td>\n",
       "    </tr>\n",
       "    <tr>\n",
       "      <th>4</th>\n",
       "      <td>&lt;pyconll.unit.token.Token object at 0x7fd26042...</td>\n",
       "    </tr>\n",
       "    <tr>\n",
       "      <th>5</th>\n",
       "      <td>&lt;pyconll.unit.token.Token object at 0x7fd26042...</td>\n",
       "    </tr>\n",
       "    <tr>\n",
       "      <th>6</th>\n",
       "      <td>&lt;pyconll.unit.token.Token object at 0x7fd26042...</td>\n",
       "    </tr>\n",
       "    <tr>\n",
       "      <th>7</th>\n",
       "      <td>&lt;pyconll.unit.token.Token object at 0x7fd26042...</td>\n",
       "    </tr>\n",
       "    <tr>\n",
       "      <th>8</th>\n",
       "      <td>&lt;pyconll.unit.token.Token object at 0x7fd26042...</td>\n",
       "    </tr>\n",
       "    <tr>\n",
       "      <th>9</th>\n",
       "      <td>&lt;pyconll.unit.token.Token object at 0x7fd26042...</td>\n",
       "    </tr>\n",
       "    <tr>\n",
       "      <th>10</th>\n",
       "      <td>&lt;pyconll.unit.token.Token object at 0x7fd26042...</td>\n",
       "    </tr>\n",
       "    <tr>\n",
       "      <th>11</th>\n",
       "      <td>&lt;pyconll.unit.token.Token object at 0x7fd26042...</td>\n",
       "    </tr>\n",
       "    <tr>\n",
       "      <th>12</th>\n",
       "      <td>&lt;pyconll.unit.token.Token object at 0x7fd26042...</td>\n",
       "    </tr>\n",
       "    <tr>\n",
       "      <th>13</th>\n",
       "      <td>&lt;pyconll.unit.token.Token object at 0x7fd2603d...</td>\n",
       "    </tr>\n",
       "    <tr>\n",
       "      <th>14</th>\n",
       "      <td>&lt;pyconll.unit.token.Token object at 0x7fd2603d...</td>\n",
       "    </tr>\n",
       "    <tr>\n",
       "      <th>15</th>\n",
       "      <td>&lt;pyconll.unit.token.Token object at 0x7fd2603d...</td>\n",
       "    </tr>\n",
       "    <tr>\n",
       "      <th>16</th>\n",
       "      <td>&lt;pyconll.unit.token.Token object at 0x7fd2603d...</td>\n",
       "    </tr>\n",
       "    <tr>\n",
       "      <th>17</th>\n",
       "      <td>&lt;pyconll.unit.token.Token object at 0x7fd26042...</td>\n",
       "    </tr>\n",
       "    <tr>\n",
       "      <th>18</th>\n",
       "      <td>&lt;pyconll.unit.token.Token object at 0x7fd2603d...</td>\n",
       "    </tr>\n",
       "    <tr>\n",
       "      <th>19</th>\n",
       "      <td>&lt;pyconll.unit.token.Token object at 0x7fd2603d...</td>\n",
       "    </tr>\n",
       "    <tr>\n",
       "      <th>20</th>\n",
       "      <td>&lt;pyconll.unit.token.Token object at 0x7fd2603d...</td>\n",
       "    </tr>\n",
       "    <tr>\n",
       "      <th>21</th>\n",
       "      <td>&lt;pyconll.unit.token.Token object at 0x7fd2603d...</td>\n",
       "    </tr>\n",
       "    <tr>\n",
       "      <th>22</th>\n",
       "      <td>&lt;pyconll.unit.token.Token object at 0x7fd2603d...</td>\n",
       "    </tr>\n",
       "    <tr>\n",
       "      <th>23</th>\n",
       "      <td>&lt;pyconll.unit.token.Token object at 0x7fd2603d...</td>\n",
       "    </tr>\n",
       "    <tr>\n",
       "      <th>24</th>\n",
       "      <td>&lt;pyconll.unit.token.Token object at 0x7fd2603d...</td>\n",
       "    </tr>\n",
       "    <tr>\n",
       "      <th>25</th>\n",
       "      <td>&lt;pyconll.unit.token.Token object at 0x7fd2603d...</td>\n",
       "    </tr>\n",
       "    <tr>\n",
       "      <th>26</th>\n",
       "      <td>&lt;pyconll.unit.token.Token object at 0x7fd2603d...</td>\n",
       "    </tr>\n",
       "    <tr>\n",
       "      <th>27</th>\n",
       "      <td>&lt;pyconll.unit.token.Token object at 0x7fd2603d...</td>\n",
       "    </tr>\n",
       "    <tr>\n",
       "      <th>28</th>\n",
       "      <td>&lt;pyconll.unit.token.Token object at 0x7fd2603d...</td>\n",
       "    </tr>\n",
       "    <tr>\n",
       "      <th>29</th>\n",
       "      <td>&lt;pyconll.unit.token.Token object at 0x7fd2603d...</td>\n",
       "    </tr>\n",
       "    <tr>\n",
       "      <th>30</th>\n",
       "      <td>&lt;pyconll.unit.token.Token object at 0x7fd2603d...</td>\n",
       "    </tr>\n",
       "    <tr>\n",
       "      <th>31</th>\n",
       "      <td>&lt;pyconll.unit.token.Token object at 0x7fd2603d...</td>\n",
       "    </tr>\n",
       "    <tr>\n",
       "      <th>32</th>\n",
       "      <td>&lt;pyconll.unit.token.Token object at 0x7fd2603d...</td>\n",
       "    </tr>\n",
       "    <tr>\n",
       "      <th>33</th>\n",
       "      <td>&lt;pyconll.unit.token.Token object at 0x7fd2603d...</td>\n",
       "    </tr>\n",
       "    <tr>\n",
       "      <th>34</th>\n",
       "      <td>&lt;pyconll.unit.token.Token object at 0x7fd2603d...</td>\n",
       "    </tr>\n",
       "    <tr>\n",
       "      <th>35</th>\n",
       "      <td>&lt;pyconll.unit.token.Token object at 0x7fd2603d...</td>\n",
       "    </tr>\n",
       "    <tr>\n",
       "      <th>36</th>\n",
       "      <td>&lt;pyconll.unit.token.Token object at 0x7fd2603d...</td>\n",
       "    </tr>\n",
       "    <tr>\n",
       "      <th>37</th>\n",
       "      <td>&lt;pyconll.unit.token.Token object at 0x7fd2603d...</td>\n",
       "    </tr>\n",
       "    <tr>\n",
       "      <th>38</th>\n",
       "      <td>&lt;pyconll.unit.token.Token object at 0x7fd2603d...</td>\n",
       "    </tr>\n",
       "    <tr>\n",
       "      <th>39</th>\n",
       "      <td>&lt;pyconll.unit.token.Token object at 0x7fd2603d...</td>\n",
       "    </tr>\n",
       "  </tbody>\n",
       "</table>\n",
       "</div>"
      ],
      "text/plain": [
       "                                               tokens\n",
       "0   <pyconll.unit.token.Token object at 0x7fd26042...\n",
       "1   <pyconll.unit.token.Token object at 0x7fd26042...\n",
       "2   <pyconll.unit.token.Token object at 0x7fd26042...\n",
       "3   <pyconll.unit.token.Token object at 0x7fd26042...\n",
       "4   <pyconll.unit.token.Token object at 0x7fd26042...\n",
       "5   <pyconll.unit.token.Token object at 0x7fd26042...\n",
       "6   <pyconll.unit.token.Token object at 0x7fd26042...\n",
       "7   <pyconll.unit.token.Token object at 0x7fd26042...\n",
       "8   <pyconll.unit.token.Token object at 0x7fd26042...\n",
       "9   <pyconll.unit.token.Token object at 0x7fd26042...\n",
       "10  <pyconll.unit.token.Token object at 0x7fd26042...\n",
       "11  <pyconll.unit.token.Token object at 0x7fd26042...\n",
       "12  <pyconll.unit.token.Token object at 0x7fd26042...\n",
       "13  <pyconll.unit.token.Token object at 0x7fd2603d...\n",
       "14  <pyconll.unit.token.Token object at 0x7fd2603d...\n",
       "15  <pyconll.unit.token.Token object at 0x7fd2603d...\n",
       "16  <pyconll.unit.token.Token object at 0x7fd2603d...\n",
       "17  <pyconll.unit.token.Token object at 0x7fd26042...\n",
       "18  <pyconll.unit.token.Token object at 0x7fd2603d...\n",
       "19  <pyconll.unit.token.Token object at 0x7fd2603d...\n",
       "20  <pyconll.unit.token.Token object at 0x7fd2603d...\n",
       "21  <pyconll.unit.token.Token object at 0x7fd2603d...\n",
       "22  <pyconll.unit.token.Token object at 0x7fd2603d...\n",
       "23  <pyconll.unit.token.Token object at 0x7fd2603d...\n",
       "24  <pyconll.unit.token.Token object at 0x7fd2603d...\n",
       "25  <pyconll.unit.token.Token object at 0x7fd2603d...\n",
       "26  <pyconll.unit.token.Token object at 0x7fd2603d...\n",
       "27  <pyconll.unit.token.Token object at 0x7fd2603d...\n",
       "28  <pyconll.unit.token.Token object at 0x7fd2603d...\n",
       "29  <pyconll.unit.token.Token object at 0x7fd2603d...\n",
       "30  <pyconll.unit.token.Token object at 0x7fd2603d...\n",
       "31  <pyconll.unit.token.Token object at 0x7fd2603d...\n",
       "32  <pyconll.unit.token.Token object at 0x7fd2603d...\n",
       "33  <pyconll.unit.token.Token object at 0x7fd2603d...\n",
       "34  <pyconll.unit.token.Token object at 0x7fd2603d...\n",
       "35  <pyconll.unit.token.Token object at 0x7fd2603d...\n",
       "36  <pyconll.unit.token.Token object at 0x7fd2603d...\n",
       "37  <pyconll.unit.token.Token object at 0x7fd2603d...\n",
       "38  <pyconll.unit.token.Token object at 0x7fd2603d...\n",
       "39  <pyconll.unit.token.Token object at 0x7fd2603d..."
      ]
     },
     "execution_count": 13,
     "metadata": {},
     "output_type": "execute_result"
    }
   ],
   "source": [
    "df"
   ]
  },
  {
   "cell_type": "code",
   "execution_count": null,
   "metadata": {},
   "outputs": [
    {
     "data": {
      "text/plain": [
       "'ホッケーにはデンジャラスプレーの反則があるので、膝より上にボールを浮かすことは基本的に反則になるが、その例外の一つがこのスクープである。'"
      ]
     },
     "execution_count": 14,
     "metadata": {},
     "output_type": "execute_result"
    }
   ],
   "source": [
    "sent.meta_value('text')"
   ]
  },
  {
   "cell_type": "code",
   "execution_count": null,
   "metadata": {},
   "outputs": [
    {
     "data": {
      "text/plain": [
       "<pyconll.unit.token.Token at 0x7fd2604258c0>"
      ]
     },
     "execution_count": 15,
     "metadata": {},
     "output_type": "execute_result"
    }
   ],
   "source": [
    "sent[0]"
   ]
  },
  {
   "cell_type": "code",
   "execution_count": null,
   "metadata": {},
   "outputs": [
    {
     "data": {
      "text/plain": [
       "40"
      ]
     },
     "execution_count": 16,
     "metadata": {},
     "output_type": "execute_result"
    }
   ],
   "source": [
    "len(sent)"
   ]
  },
  {
   "cell_type": "code",
   "execution_count": null,
   "metadata": {},
   "outputs": [],
   "source": [
    "tree = sent.to_tree()"
   ]
  },
  {
   "cell_type": "code",
   "execution_count": null,
   "id": "97900cb5",
   "metadata": {},
   "outputs": [
    {
     "data": {
      "text/plain": [
       "5"
      ]
     },
     "execution_count": 18,
     "metadata": {},
     "output_type": "execute_result"
    }
   ],
   "source": [
    "len(tree)"
   ]
  },
  {
   "cell_type": "code",
   "execution_count": null,
   "id": "084d5a62",
   "metadata": {},
   "outputs": [
    {
     "data": {
      "text/plain": [
       "<pyconll.tree.tree.Tree at 0x7fd211d59310>"
      ]
     },
     "execution_count": 19,
     "metadata": {},
     "output_type": "execute_result"
    }
   ],
   "source": [
    "tree[0]"
   ]
  },
  {
   "cell_type": "code",
   "execution_count": null,
   "id": "c660b9dd",
   "metadata": {},
   "outputs": [
    {
     "data": {
      "text/plain": [
       "<pyconll.unit.token.Token at 0x7fd2603d1b40>"
      ]
     },
     "execution_count": 20,
     "metadata": {},
     "output_type": "execute_result"
    }
   ],
   "source": [
    "tree.data"
   ]
  },
  {
   "cell_type": "code",
   "execution_count": null,
   "id": "da0b2710",
   "metadata": {},
   "outputs": [],
   "source": [
    "token = sent[0]"
   ]
  },
  {
   "cell_type": "code",
   "execution_count": null,
   "id": "a61b865f",
   "metadata": {},
   "outputs": [
    {
     "data": {
      "text/plain": [
       "'1'"
      ]
     },
     "execution_count": 32,
     "metadata": {},
     "output_type": "execute_result"
    }
   ],
   "source": [
    "token.id"
   ]
  },
  {
   "cell_type": "code",
   "execution_count": null,
   "id": "046a49a5",
   "metadata": {},
   "outputs": [
    {
     "data": {
      "text/plain": [
       "'ホッケー'"
      ]
     },
     "execution_count": 22,
     "metadata": {},
     "output_type": "execute_result"
    }
   ],
   "source": [
    "token.form"
   ]
  },
  {
   "cell_type": "code",
   "execution_count": null,
   "id": "1acfa76f",
   "metadata": {},
   "outputs": [
    {
     "data": {
      "text/plain": [
       "'1\\tホッケー\\tホッケー\\tNOUN\\t名詞-普通名詞-一般\\t_\\t9\\tobl\\t_\\tBunsetuBILabel=B|BunsetuPositionType=SEM_HEAD|LUWBILabel=B|LUWPOS=名詞-普通名詞-一般|SpaceAfter=No'"
      ]
     },
     "execution_count": 23,
     "metadata": {},
     "output_type": "execute_result"
    }
   ],
   "source": [
    "token.conll()"
   ]
  },
  {
   "cell_type": "code",
   "execution_count": null,
   "id": "e25c852b",
   "metadata": {},
   "outputs": [
    {
     "data": {
      "text/plain": [
       "['AV_DEPS_SEPARATOR',\n",
       " 'AV_SEPARATOR',\n",
       " 'BY_CASE_INSENSITIVE',\n",
       " 'BY_ID',\n",
       " 'COMPONENT_DELIMITER',\n",
       " 'EMPTY',\n",
       " 'FIELD_DELIMITER',\n",
       " 'V_DELIMITER',\n",
       " 'V_DEPS_DELIMITER',\n",
       " '__abstractmethods__',\n",
       " '__annotations__',\n",
       " '__class__',\n",
       " '__delattr__',\n",
       " '__dict__',\n",
       " '__dir__',\n",
       " '__doc__',\n",
       " '__eq__',\n",
       " '__format__',\n",
       " '__ge__',\n",
       " '__getattribute__',\n",
       " '__gt__',\n",
       " '__hash__',\n",
       " '__init__',\n",
       " '__init_subclass__',\n",
       " '__le__',\n",
       " '__lt__',\n",
       " '__module__',\n",
       " '__ne__',\n",
       " '__new__',\n",
       " '__reduce__',\n",
       " '__reduce_ex__',\n",
       " '__repr__',\n",
       " '__setattr__',\n",
       " '__sizeof__',\n",
       " '__slots__',\n",
       " '__str__',\n",
       " '__subclasshook__',\n",
       " '__weakref__',\n",
       " '_abc_impl',\n",
       " '_form',\n",
       " 'conll',\n",
       " 'deprel',\n",
       " 'deps',\n",
       " 'feats',\n",
       " 'form',\n",
       " 'head',\n",
       " 'id',\n",
       " 'is_empty_node',\n",
       " 'is_multiword',\n",
       " 'lemma',\n",
       " 'misc',\n",
       " 'upos',\n",
       " 'xpos']"
      ]
     },
     "execution_count": 24,
     "metadata": {},
     "output_type": "execute_result"
    }
   ],
   "source": [
    "dir(token)"
   ]
  },
  {
   "cell_type": "code",
   "execution_count": null,
   "id": "f8fd8ef5",
   "metadata": {},
   "outputs": [
    {
     "data": {
      "text/plain": [
       "'NOUN'"
      ]
     },
     "execution_count": 25,
     "metadata": {},
     "output_type": "execute_result"
    }
   ],
   "source": [
    "token.upos"
   ]
  },
  {
   "cell_type": "code",
   "execution_count": null,
   "id": "a2122aaa",
   "metadata": {},
   "outputs": [
    {
     "data": {
      "text/plain": [
       "'obl'"
      ]
     },
     "execution_count": 26,
     "metadata": {},
     "output_type": "execute_result"
    }
   ],
   "source": [
    "token.deprel"
   ]
  },
  {
   "cell_type": "code",
   "execution_count": null,
   "id": "9e8c5cb9",
   "metadata": {},
   "outputs": [
    {
     "data": {
      "text/plain": [
       "{}"
      ]
     },
     "execution_count": 27,
     "metadata": {},
     "output_type": "execute_result"
    }
   ],
   "source": [
    "token.deps"
   ]
  },
  {
   "cell_type": "code",
   "execution_count": null,
   "id": "ee087f1f",
   "metadata": {},
   "outputs": [
    {
     "data": {
      "text/plain": [
       "{}"
      ]
     },
     "execution_count": 28,
     "metadata": {},
     "output_type": "execute_result"
    }
   ],
   "source": [
    "token.feats"
   ]
  },
  {
   "cell_type": "code",
   "execution_count": null,
   "id": "286dc44e",
   "metadata": {},
   "outputs": [
    {
     "data": {
      "text/plain": [
       "'9'"
      ]
     },
     "execution_count": 29,
     "metadata": {},
     "output_type": "execute_result"
    }
   ],
   "source": [
    "token.head"
   ]
  },
  {
   "cell_type": "code",
   "execution_count": null,
   "id": "cbc130b5",
   "metadata": {},
   "outputs": [
    {
     "data": {
      "text/plain": [
       "'ホッケー'"
      ]
     },
     "execution_count": 30,
     "metadata": {},
     "output_type": "execute_result"
    }
   ],
   "source": [
    "token.lemma"
   ]
  },
  {
   "cell_type": "code",
   "execution_count": null,
   "id": "4284b68f",
   "metadata": {},
   "outputs": [
    {
     "data": {
      "text/plain": [
       "{'BunsetuBILabel': {'B'},\n",
       " 'BunsetuPositionType': {'SEM_HEAD'},\n",
       " 'LUWBILabel': {'B'},\n",
       " 'LUWPOS': {'名詞-普通名詞-一般'},\n",
       " 'SpaceAfter': {'No'}}"
      ]
     },
     "execution_count": 31,
     "metadata": {},
     "output_type": "execute_result"
    }
   ],
   "source": [
    "token.misc"
   ]
  },
  {
   "cell_type": "code",
   "execution_count": null,
   "id": "9dc8b096",
   "metadata": {},
   "outputs": [],
   "source": []
  }
 ],
 "metadata": {
  "kernelspec": {
   "display_name": ".venv",
   "language": "python",
   "name": "python3"
  },
  "language_info": {
   "codemirror_mode": {
    "name": "ipython",
    "version": 3
   },
   "file_extension": ".py",
   "mimetype": "text/x-python",
   "name": "python",
   "nbconvert_exporter": "python",
   "pygments_lexer": "ipython3",
   "version": "3.9.16 (main, Jan 12 2023, 08:25:59) \n[GCC 9.3.0]"
  },
  "vscode": {
   "interpreter": {
    "hash": "2b8e297ae93cc1fa466a12dc14f388a83efddfe3ca27e574e368c37122cdce98"
   }
  }
 },
 "nbformat": 4,
 "nbformat_minor": 5
}
