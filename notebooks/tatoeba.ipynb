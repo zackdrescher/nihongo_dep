{
 "cells": [
  {
   "cell_type": "code",
   "execution_count": 4,
   "source": [
    "import os\n",
    "\n",
    "if (os.path.basename(os.getcwd()) == 'notebooks'):\n",
    "    os.chdir('..')\n",
    "\n",
    "os.getcwd()"
   ],
   "outputs": [
    {
     "output_type": "execute_result",
     "data": {
      "text/plain": [
       "'/home/zack/personal/nihongo_dep'"
      ]
     },
     "metadata": {},
     "execution_count": 4
    }
   ],
   "metadata": {}
  },
  {
   "cell_type": "code",
   "execution_count": 5,
   "source": [
    "import pandas as pd"
   ],
   "outputs": [],
   "metadata": {}
  },
  {
   "cell_type": "code",
   "execution_count": 8,
   "source": [
    "sentences = pd.read_csv('data/raw/jpn_sentences.tsv', sep='\\t', names=['id', 'lang', 'sent'])\n",
    "sentences"
   ],
   "outputs": [
    {
     "output_type": "execute_result",
     "data": {
      "text/html": [
       "<div>\n",
       "<style scoped>\n",
       "    .dataframe tbody tr th:only-of-type {\n",
       "        vertical-align: middle;\n",
       "    }\n",
       "\n",
       "    .dataframe tbody tr th {\n",
       "        vertical-align: top;\n",
       "    }\n",
       "\n",
       "    .dataframe thead th {\n",
       "        text-align: right;\n",
       "    }\n",
       "</style>\n",
       "<table border=\"1\" class=\"dataframe\">\n",
       "  <thead>\n",
       "    <tr style=\"text-align: right;\">\n",
       "      <th></th>\n",
       "      <th>id</th>\n",
       "      <th>lang</th>\n",
       "      <th>sent</th>\n",
       "    </tr>\n",
       "  </thead>\n",
       "  <tbody>\n",
       "    <tr>\n",
       "      <th>0</th>\n",
       "      <td>1297</td>\n",
       "      <td>jpn</td>\n",
       "      <td>きみにちょっとしたものをもってきたよ。</td>\n",
       "    </tr>\n",
       "    <tr>\n",
       "      <th>1</th>\n",
       "      <td>4702</td>\n",
       "      <td>jpn</td>\n",
       "      <td>何かしてみましょう。</td>\n",
       "    </tr>\n",
       "    <tr>\n",
       "      <th>2</th>\n",
       "      <td>4703</td>\n",
       "      <td>jpn</td>\n",
       "      <td>私は眠らなければなりません。</td>\n",
       "    </tr>\n",
       "    <tr>\n",
       "      <th>3</th>\n",
       "      <td>4704</td>\n",
       "      <td>jpn</td>\n",
       "      <td>何してるの？</td>\n",
       "    </tr>\n",
       "    <tr>\n",
       "      <th>4</th>\n",
       "      <td>4705</td>\n",
       "      <td>jpn</td>\n",
       "      <td>今日は６月１８日で、ムーリエルの誕生日です！</td>\n",
       "    </tr>\n",
       "    <tr>\n",
       "      <th>...</th>\n",
       "      <td>...</td>\n",
       "      <td>...</td>\n",
       "      <td>...</td>\n",
       "    </tr>\n",
       "    <tr>\n",
       "      <th>212978</th>\n",
       "      <td>10301889</td>\n",
       "      <td>jpn</td>\n",
       "      <td>秋の味覚が店頭に並ぶ季節となりました。</td>\n",
       "    </tr>\n",
       "    <tr>\n",
       "      <th>212979</th>\n",
       "      <td>10301918</td>\n",
       "      <td>jpn</td>\n",
       "      <td>これたくさん持ってるよ。</td>\n",
       "    </tr>\n",
       "    <tr>\n",
       "      <th>212980</th>\n",
       "      <td>10301922</td>\n",
       "      <td>jpn</td>\n",
       "      <td>これは新品よ。</td>\n",
       "    </tr>\n",
       "    <tr>\n",
       "      <th>212981</th>\n",
       "      <td>10301994</td>\n",
       "      <td>jpn</td>\n",
       "      <td>お父さんと一緒にするな。</td>\n",
       "    </tr>\n",
       "    <tr>\n",
       "      <th>212982</th>\n",
       "      <td>10301995</td>\n",
       "      <td>jpn</td>\n",
       "      <td>お父さんとは違うんだ。</td>\n",
       "    </tr>\n",
       "  </tbody>\n",
       "</table>\n",
       "<p>212983 rows × 3 columns</p>\n",
       "</div>"
      ],
      "text/plain": [
       "              id lang                    sent\n",
       "0           1297  jpn     きみにちょっとしたものをもってきたよ。\n",
       "1           4702  jpn              何かしてみましょう。\n",
       "2           4703  jpn          私は眠らなければなりません。\n",
       "3           4704  jpn                  何してるの？\n",
       "4           4705  jpn  今日は６月１８日で、ムーリエルの誕生日です！\n",
       "...          ...  ...                     ...\n",
       "212978  10301889  jpn     秋の味覚が店頭に並ぶ季節となりました。\n",
       "212979  10301918  jpn            これたくさん持ってるよ。\n",
       "212980  10301922  jpn                 これは新品よ。\n",
       "212981  10301994  jpn            お父さんと一緒にするな。\n",
       "212982  10301995  jpn             お父さんとは違うんだ。\n",
       "\n",
       "[212983 rows x 3 columns]"
      ]
     },
     "metadata": {},
     "execution_count": 8
    }
   ],
   "metadata": {}
  },
  {
   "cell_type": "code",
   "execution_count": null,
   "source": [],
   "outputs": [],
   "metadata": {}
  }
 ],
 "metadata": {
  "language_info": {
   "name": "python",
   "version": "3.7.11",
   "mimetype": "text/x-python",
   "codemirror_mode": {
    "name": "ipython",
    "version": 3
   },
   "pygments_lexer": "ipython3",
   "nbconvert_exporter": "python",
   "file_extension": ".py"
  },
  "kernelspec": {
   "name": "python3",
   "display_name": "Python 3.7.11 64-bit ('nihongo': conda)"
  },
  "interpreter": {
   "hash": "8433e1e2ea2391e95a44ee747964739fabf9b88207462f4fa7b5e13e7615e791"
  }
 },
 "nbformat": 4,
 "nbformat_minor": 5
}