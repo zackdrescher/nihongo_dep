{
 "cells": [
  {
   "cell_type": "code",
   "execution_count": 1,
   "id": "3746292d-7952-4279-8943-d85893244ff4",
   "metadata": {
    "tags": []
   },
   "outputs": [
    {
     "data": {
      "application/vnd.jupyter.widget-view+json": {
       "model_id": "b0a7690cbb1e419abe2158c437f8497c",
       "version_major": 2,
       "version_minor": 0
      },
      "text/plain": [
       "Downloading:   0%|          | 0.00/405 [00:00<?, ?B/s]"
      ]
     },
     "metadata": {},
     "output_type": "display_data"
    },
    {
     "data": {
      "application/vnd.jupyter.widget-view+json": {
       "model_id": "516f4c28375c491780aef8c883b5b219",
       "version_major": 2,
       "version_minor": 0
      },
      "text/plain": [
       "Downloading:   0%|          | 0.00/2.22k [00:00<?, ?B/s]"
      ]
     },
     "metadata": {},
     "output_type": "display_data"
    },
    {
     "data": {
      "application/vnd.jupyter.widget-view+json": {
       "model_id": "2d0f70ac027c4e129427234b083c7d09",
       "version_major": 2,
       "version_minor": 0
      },
      "text/plain": [
       "Downloading:   0%|          | 0.00/24.7k [00:00<?, ?B/s]"
      ]
     },
     "metadata": {},
     "output_type": "display_data"
    },
    {
     "data": {
      "application/vnd.jupyter.widget-view+json": {
       "model_id": "548098f4fa604275b2800a22e73acfe4",
       "version_major": 2,
       "version_minor": 0
      },
      "text/plain": [
       "Downloading:   0%|          | 0.00/112 [00:00<?, ?B/s]"
      ]
     },
     "metadata": {},
     "output_type": "display_data"
    },
    {
     "data": {
      "application/vnd.jupyter.widget-view+json": {
       "model_id": "43f07e6b518b4da4b8f87a8dd25dea18",
       "version_major": 2,
       "version_minor": 0
      },
      "text/plain": [
       "Downloading:   0%|          | 0.00/1.24G [00:00<?, ?B/s]"
      ]
     },
     "metadata": {},
     "output_type": "display_data"
    },
    {
     "name": "stdout",
     "output_type": "stream",
     "text": [
      "[('国', 'B-NOUN'), ('境', 'I-NOUN'), ('の', 'ADP'), ('長', 'B-ADJ'), ('い', 'I-ADJ'), ('ト', 'B-NOUN'), ('ン', 'I-NOUN'), ('ネ', 'I-NOUN'), ('ル', 'I-NOUN'), ('を', 'ADP'), ('抜', 'B-VERB'), ('け', 'I-VERB'), ('る', 'I-VERB'), ('と', 'CCONJ'), ('雪', 'B-PROPN'), ('国', 'I-PROPN'), ('で', 'AUX'), ('あ', 'B-AUX'), ('っ', 'I-AUX'), ('た', 'AUX'), ('。', 'PUNCT')]\n"
     ]
    }
   ],
   "source": [
    "import torch\n",
    "from transformers import AutoTokenizer,AutoModelForTokenClassification\n",
    "tokenizer=AutoTokenizer.from_pretrained(\"KoichiYasuoka/bert-large-japanese-upos\")\n",
    "model=AutoModelForTokenClassification.from_pretrained(\"KoichiYasuoka/bert-large-japanese-upos\")\n",
    "s=\"国境の長いトンネルを抜けると雪国であった。\"\n",
    "p=[model.config.id2label[q] for q in torch.argmax(model(tokenizer.encode(s,return_tensors=\"pt\"))[0],dim=2)[0].tolist()[1:-1]]\n",
    "print(list(zip(s,p)))"
   ]
  },
  {
   "cell_type": "code",
   "execution_count": null,
   "id": "7bf02127-312e-4a8f-a0b2-833542d9b174",
   "metadata": {
    "tags": []
   },
   "outputs": [],
   "source": []
  }
 ],
 "metadata": {
  "kernelspec": {
   "display_name": "Python 3 (ipykernel)",
   "language": "python",
   "name": "python3"
  },
  "language_info": {
   "codemirror_mode": {
    "name": "ipython",
    "version": 3
   },
   "file_extension": ".py",
   "mimetype": "text/x-python",
   "name": "python",
   "nbconvert_exporter": "python",
   "pygments_lexer": "ipython3",
   "version": "3.7.11"
  }
 },
 "nbformat": 4,
 "nbformat_minor": 5
}
